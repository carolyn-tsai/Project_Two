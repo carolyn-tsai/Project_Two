{
 "cells": [
  {
   "cell_type": "code",
   "execution_count": null,
   "metadata": {},
   "outputs": [],
   "source": [
    "# Import dependencies\n",
    "\n",
    "import os\n",
    "import csv\n",
    "import pandas as pd\n",
    "\n",
    "# Define both files to be analyzed\n",
    "\n",
    "file_1 = \"final_clean_dog_data.csv\"\n",
    "file_2 = \"final_wheelchair_data.csv\"\n",
    "\n",
    "# Read both files\n",
    "\n",
    "dog_df = pd.read_csv(file_1, encoding=\"UTF-8\", low_memory = False)    \n",
    "wc_df = pd.read_csv(file_2, encoding=\"UTF-8\", low_memory = False)\n",
    "\n",
    "# Preview dog restaurant data frame\n",
    "\n",
    "dog_df.head()"
   ]
  },
  {
   "cell_type": "code",
   "execution_count": null,
   "metadata": {},
   "outputs": [],
   "source": [
    "# Preview wheel chair restaurant data frame\n",
    "\n",
    "wc_df.head()"
   ]
  },
  {
   "cell_type": "code",
   "execution_count": null,
   "metadata": {},
   "outputs": [],
   "source": [
    "# Make sure rows of data are correct\n",
    "\n",
    "print(len(dog_df))\n",
    "print(len(wc_df))"
   ]
  },
  {
   "cell_type": "code",
   "execution_count": null,
   "metadata": {},
   "outputs": [],
   "source": [
    "# Combine both data frames so that restaurant data can be analyzed\n",
    "\n",
    "combined_df = pd.concat([dog_df, wc_df])\n",
    "\n",
    "# Check number of rows of data frame\n",
    "\n",
    "len(combined_df)"
   ]
  },
  {
   "cell_type": "code",
   "execution_count": null,
   "metadata": {},
   "outputs": [],
   "source": [
    "# Get all rows that have duplicate restaurant names\n",
    "\n",
    "duplicate_rows = combined_df[combined_df.duplicated(\"name\", keep=False)]\n",
    "\n",
    "# See how many restaurants are duplicated by name\n",
    "\n",
    "len(duplicate_rows)"
   ]
  },
  {
   "cell_type": "code",
   "execution_count": null,
   "metadata": {},
   "outputs": [],
   "source": [
    "# Alphabetize the restaurant names so that the entries could be compared\n",
    "# Some restaurants are chains so need to look at more than just duplicated names\n",
    "\n",
    "duplicate_rows = duplicate_rows.sort_values(\"name\", ascending=True)\n",
    "\n",
    "# Preview the data frame\n",
    "\n",
    "duplicate_rows.head()"
   ]
  },
  {
   "cell_type": "code",
   "execution_count": null,
   "metadata": {},
   "outputs": [],
   "source": [
    "# Also, the latitude/longitude recorded for each restaurant will not be exactly the same so cannot compare by lat and long\n",
    "# Different scraped sites have different entires for the same restaurant\n",
    "# To find if the restaurant is the same, find the difference in the latitude from the previous row\n",
    "# Since the restaurants are in alphabetical order, if the restaurant is a duplicate, the latitude should be relatively close to the previous entry\n",
    "# Create a new column \"lat_diff\" to hold the difference values\n",
    "\n",
    "duplicate_rows[\"lat_diff\"] = duplicate_rows['latitude'] - duplicate_rows['latitude'].shift(1)\n",
    "\n",
    "# Preview data frame\n",
    "\n",
    "duplicate_rows.head()"
   ]
  },
  {
   "cell_type": "code",
   "execution_count": null,
   "metadata": {},
   "outputs": [],
   "source": [
    "# Since the latitude can also be off by a little bit, will analyze another column as well\n",
    "# If the restaurant has the same name within the same zip code with a similar latitude, the restaurant should be a duplicate\n",
    "# The difference in the zip code should be zero for duplicates\n",
    "# Create new column that analyzes the difference in zip code from previous entry\n",
    "\n",
    "duplicate_rows[\"zip_diff\"] = duplicate_rows['zip_code'] - duplicate_rows['zip_code'].shift(1)\n",
    "\n",
    "# Display data frame\n",
    "\n",
    "duplicate_rows.head()"
   ]
  },
  {
   "cell_type": "code",
   "execution_count": null,
   "metadata": {},
   "outputs": [],
   "source": [
    "# See which restaurants are duplicates\n",
    "# The data that results should be the restaurants that are both wheel chair accessible and dog friendly\n",
    "# The duplicate entires means that the restaurant shows up in both the wheel chair and dog friendly data sets\n",
    "# Must find the absolute value of the latitude difference as some may be negative\n",
    "# A latitude difference less than 0.0015 was chosen to compare duplicate entries\n",
    "# The zip code difference should be equal to zero as well for the duplicates\n",
    "\n",
    "both_wc_and_dog = duplicate_rows[(abs(duplicate_rows[\"lat_diff\"]) < 0.0015) & (duplicate_rows[\"zip_diff\"] == 0)]\n",
    "\n",
    "# Display the data frame\n",
    "\n",
    "len(both_wc_and_dog)"
   ]
  },
  {
   "cell_type": "code",
   "execution_count": null,
   "metadata": {},
   "outputs": [],
   "source": [
    "# Analyze the data collected\n",
    "\n",
    "both_df = both_wc_and_dog.sort_values(\"name\", ascending=True)"
   ]
  },
  {
   "cell_type": "code",
   "execution_count": null,
   "metadata": {},
   "outputs": [],
   "source": [
    "# Drop any duplicate entries\n",
    "# Find by restaurant name since the data is already filtered by zip and latitude difference\n",
    "\n",
    "clean_df = both_wc_and_dog.drop_duplicates(\"name\", keep=\"first\")\n",
    "\n",
    "# Preview data frame\n",
    "\n",
    "len(clean_df)"
   ]
  },
  {
   "cell_type": "code",
   "execution_count": null,
   "metadata": {},
   "outputs": [],
   "source": [
    "# Get a clean data frame with only the columns needed\n",
    "\n",
    "clean_df = clean_df[[\"name\", \"latitude\", \"longitude\", \"address\", \"zip_code\", \"website\"]]"
   ]
  },
  {
   "cell_type": "code",
   "execution_count": null,
   "metadata": {},
   "outputs": [],
   "source": [
    "# Save the data frame to a CSV file\n",
    "\n",
    "clean_df.to_csv(\"final_data_both_dog_and_wheelchair.csv\", index=False)"
   ]
  }
 ],
 "metadata": {
  "kernelspec": {
   "display_name": "Python [conda env:PythonData]",
   "language": "python",
   "name": "conda-env-PythonData-py"
  },
  "language_info": {
   "codemirror_mode": {
    "name": "ipython",
    "version": 3
   },
   "file_extension": ".py",
   "mimetype": "text/x-python",
   "name": "python",
   "nbconvert_exporter": "python",
   "pygments_lexer": "ipython3",
   "version": "3.6.9"
  }
 },
 "nbformat": 4,
 "nbformat_minor": 2
}
