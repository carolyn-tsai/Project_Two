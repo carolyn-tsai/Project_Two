{
 "cells": [
  {
   "cell_type": "code",
   "execution_count": null,
   "metadata": {},
   "outputs": [],
   "source": [
    "# Import dependencies\n",
    "\n",
    "import os\n",
    "import csv\n",
    "import pandas as pd\n",
    "\n",
    "# All dog restaurant data was compiled into \"all_dog_rest_data\"\n",
    "\n",
    "file = \"all_dog_rest_data.csv\"\n",
    "\n",
    "# Read the CSV file\n",
    "\n",
    "dog_df = pd.read_csv(file, encoding=\"UTF-8\", low_memory = False)    \n",
    "\n",
    "# Preview data frame\n",
    "\n",
    "dog_df.head()"
   ]
  },
  {
   "cell_type": "code",
   "execution_count": null,
   "metadata": {},
   "outputs": [],
   "source": [
    "# Check how many data points there are\n",
    "\n",
    "len(dog_df)"
   ]
  },
  {
   "cell_type": "code",
   "execution_count": null,
   "metadata": {},
   "outputs": [],
   "source": [
    "# Check if there are duplicated restaurant names\n",
    "\n",
    "check_name = dog_df[dog_df[\"name\"].duplicated() == True]\n",
    "\n",
    "# See how many restaurant names are duplicated\n",
    "\n",
    "len(check_name)"
   ]
  },
  {
   "cell_type": "code",
   "execution_count": null,
   "metadata": {},
   "outputs": [],
   "source": [
    "# Drop duplicates\n",
    "\n",
    "dog_df.drop_duplicates(subset=\"name\", keep=\"first\", inplace=True)\n",
    "\n",
    "# Check how many restaurants are left\n",
    "\n",
    "len(dog_df)"
   ]
  },
  {
   "cell_type": "code",
   "execution_count": null,
   "metadata": {},
   "outputs": [],
   "source": [
    "# Drop any NaN values\n",
    "\n",
    "dog_df_no_na = dog_df.dropna()\n",
    "\n",
    "# Preview data frame\n",
    "\n",
    "len(dog_df_no_na)"
   ]
  },
  {
   "cell_type": "code",
   "execution_count": null,
   "metadata": {},
   "outputs": [],
   "source": [
    "# Create new colump \"zip\" by using regex to extract zip code from \"address\" column\n",
    "# Since some of the zip codes are in -XXXX format, need to match 0-4 repeititons\n",
    "\n",
    "dog_df_no_na['zip'] = dog_df_no_na['address'].str.extract(r'(\\d{5}\\-?\\d{0,4})')\n",
    "\n",
    "# Preview data frame\n",
    "\n",
    "dog_df_no_na.head()"
   ]
  },
  {
   "cell_type": "code",
   "execution_count": null,
   "metadata": {},
   "outputs": [],
   "source": [
    "# Drop the extra 4 digits on some of the zip codes\n",
    "\n",
    "dog_df_no_na[\"zip_code\"] = dog_df_no_na[\"zip\"].str.slice(0,5)\n",
    "\n",
    "# Preview data frame\n",
    "\n",
    "dog_df_no_na.head()"
   ]
  },
  {
   "cell_type": "code",
   "execution_count": null,
   "metadata": {},
   "outputs": [],
   "source": [
    "# Check to see if any of the zip codes were improperly sliced\n",
    "# Drop NaN values\n",
    "\n",
    "check_nan = dog_df_no_na.dropna()\n",
    "\n",
    "# Check the number\n",
    "\n",
    "len(check_nan)"
   ]
  },
  {
   "cell_type": "code",
   "execution_count": null,
   "metadata": {},
   "outputs": [],
   "source": [
    "# Create a data frame with only the data needed\n",
    "\n",
    "clean_dog_df = check_nan[[\"name\", \"latitude\", \"longitude\", \"address\", \"zip_code\", \"website\"]]\n",
    "\n",
    "# Preview data frame\n",
    "\n",
    "clean_dog_df.head()"
   ]
  },
  {
   "cell_type": "code",
   "execution_count": null,
   "metadata": {},
   "outputs": [],
   "source": [
    "# Save the data frame as a CSV file to be used later\n",
    "\n",
    "clean_dog_df.to_csv(\"final_clean_dog_data.csv\", index=False)"
   ]
  }
 ],
 "metadata": {
  "kernelspec": {
   "display_name": "Python [conda env:PythonData]",
   "language": "python",
   "name": "conda-env-PythonData-py"
  },
  "language_info": {
   "codemirror_mode": {
    "name": "ipython",
    "version": 3
   },
   "file_extension": ".py",
   "mimetype": "text/x-python",
   "name": "python",
   "nbconvert_exporter": "python",
   "pygments_lexer": "ipython3",
   "version": "3.6.9"
  }
 },
 "nbformat": 4,
 "nbformat_minor": 2
}
