{
 "cells": [
  {
   "cell_type": "code",
   "execution_count": 4,
   "metadata": {},
   "outputs": [],
   "source": [
    "# Import dependencies\n",
    "\n",
    "import pandas as pd\n",
    "from bs4 import BeautifulSoup\n",
    "import requests\n",
    "from urllib.request import urlopen\n",
    "import json\n",
    "from splinter import Browser\n",
    "import time"
   ]
  },
  {
   "cell_type": "code",
   "execution_count": 19,
   "metadata": {},
   "outputs": [],
   "source": [
    "# Set main URL for scraping \n",
    "\n",
    "dog_url_main=\"https://www.bringfido.com/restaurant/?extras=on&start=48&city=san_francisco_ca_us&q=san%20francisco&sort=name\""
   ]
  },
  {
   "cell_type": "code",
   "execution_count": 9,
   "metadata": {},
   "outputs": [],
   "source": [
    "# Create function to parse through HTML using Beautiful Soup\n",
    "\n",
    "def getHTMLContent(link):\n",
    "    html = urlopen(link)\n",
    "    soup = BeautifulSoup(html, 'html.parser')\n",
    "    return soup"
   ]
  },
  {
   "cell_type": "code",
   "execution_count": 20,
   "metadata": {},
   "outputs": [
    {
     "name": "stdout",
     "output_type": "stream",
     "text": [
      "<div class=\"info-wrapper\">\n",
      " <div class=\"info\">\n",
      "  <h2>\n",
      "   <a href=\"/restaurant/69310\" itemprop=\"url\" target=\"_blank\">\n",
      "    <span>\n",
      "     4505 Burgers &amp; BBQ\n",
      "    </span>\n",
      "   </a>\n",
      "  </h2>\n",
      "  <div class=\"bones\">\n",
      "   <a href=\"/restaurant/69310#reviews\" target=\"_blank\">\n",
      "    <img alt=\"\" src=\"/assets/images/icons/brand/bones/empty.svg\"/>\n",
      "    <img alt=\"\" src=\"/assets/images/icons/brand/bones/empty.svg\"/>\n",
      "    <img alt=\"\" src=\"/assets/images/icons/brand/bones/empty.svg\"/>\n",
      "    <img alt=\"\" src=\"/assets/images/icons/brand/bones/empty.svg\"/>\n",
      "    <img alt=\"\" src=\"/assets/images/icons/brand/bones/empty.svg\"/>\n",
      "   </a>\n",
      "  </div>\n",
      "  <div class=\"subtitle\">\n",
      "   <a href=\"/restaurant/city/san_francisco_ca_us/\">\n",
      "    San Francisco\n",
      "   </a>\n",
      "  </div>\n",
      " </div>\n",
      " <div class=\"overlay-info\">\n",
      "  <div class=\"overlay-name\">\n",
      "   <a href=\"/restaurant/69310\" target=\"_blank\">\n",
      "    <span>\n",
      "     4505 Burgers &amp; BBQ\n",
      "    </span>\n",
      "   </a>\n",
      "  </div>\n",
      "  <a class=\"close-button\">\n",
      "  </a>\n",
      "  <div class=\"description\">\n",
      "   4505 Burgers and BBQ, located in San Francisco, CA, is a casual eatery that serves up a variety of delicious fare. Fido is welcome to join you at one of their pet-friendly outdoor tables while you enjoy your meal. Try the Best Damn Grass-Fed Cheeseburger - a quarter-pound grass-fed beef burger topped with lettuce, onion, gruyere cheese, and secret sauce on a buttered grilled sesame-scallion bun. Or go for the Smoked Rib Plate - three-quarters of a pound of ribs served with pickles, a buttered roll, and two sides of your choice. 4505 Burgers and BBQ is open Sunday through Thursday from 10:30am to 10pm, and Friday through Saturday from 10:30am to 11pm.\n",
      "  </div>\n",
      "  <div class=\"overlay-button\">\n",
      "   <a href=\"http://www.4505burgersandbbq.com/\" target=\"_blank\">\n",
      "    Visit Website\n",
      "   </a>\n",
      "  </div>\n",
      " </div>\n",
      "</div>\n",
      "<div class=\"info-wrapper\">\n",
      " <div class=\"info\">\n",
      "  <h2>\n",
      "   <a href=\"/restaurant/678\" itemprop=\"url\" target=\"_blank\">\n",
      "    <span>\n",
      "     Americano\n",
      "    </span>\n",
      "   </a>\n",
      "  </h2>\n",
      "  <div class=\"bones\">\n",
      "   <a href=\"/restaurant/678#reviews\" target=\"_blank\">\n",
      "    <img alt=\"\" src=\"/assets/images/icons/brand/bones/empty.svg\"/>\n",
      "    <img alt=\"\" src=\"/assets/images/icons/brand/bones/empty.svg\"/>\n",
      "    <img alt=\"\" src=\"/assets/images/icons/brand/bones/empty.svg\"/>\n",
      "    <img alt=\"\" src=\"/assets/images/icons/brand/bones/empty.svg\"/>\n",
      "    <img alt=\"\" src=\"/assets/images/icons/brand/bones/empty.svg\"/>\n",
      "   </a>\n",
      "  </div>\n",
      "  <div class=\"subtitle\">\n",
      "   <a href=\"/restaurant/city/san_francisco_ca_us/\">\n",
      "    San Francisco\n",
      "   </a>\n",
      "  </div>\n",
      " </div>\n",
      " <div class=\"overlay-info\">\n",
      "  <div class=\"overlay-name\">\n",
      "   <a href=\"/restaurant/678\" target=\"_blank\">\n",
      "    <span>\n",
      "     Americano\n",
      "    </span>\n",
      "   </a>\n",
      "  </div>\n",
      "  <a class=\"close-button\">\n",
      "  </a>\n",
      "  <div class=\"description\">\n",
      "   Located at Hotel Vitale, this hip spot with beautiful views of San Francisco Bay offers soulful Italian dishes and dog-friendly patio seating. Menu features grilled octopus, pizza fresca, spaghetti carbonara, hanger steak, and miso glazed black cod. Opens Monday thru Friday at 6:30am, 7:30am on weekends.\n",
      "  </div>\n",
      "  <div class=\"overlay-button\">\n",
      "   <a href=\"http://www.americanorestaurant.com/info.html\" target=\"_blank\">\n",
      "    Visit Website\n",
      "   </a>\n",
      "  </div>\n",
      " </div>\n",
      "</div>\n",
      "<div class=\"info-wrapper\">\n",
      " <div class=\"info\">\n",
      "  <h2>\n",
      "   <a href=\"/restaurant/70742\" itemprop=\"url\" target=\"_blank\">\n",
      "    <span>\n",
      "     Another Cafe\n",
      "    </span>\n",
      "   </a>\n",
      "  </h2>\n",
      "  <div class=\"bones\">\n",
      "   <a href=\"/restaurant/70742#reviews\" target=\"_blank\">\n",
      "    <img alt=\"\" src=\"/assets/images/icons/brand/bones/full.svg\"/>\n",
      "    <img alt=\"\" src=\"/assets/images/icons/brand/bones/full.svg\"/>\n",
      "    <img alt=\"\" src=\"/assets/images/icons/brand/bones/full.svg\"/>\n",
      "    <img alt=\"\" src=\"/assets/images/icons/brand/bones/full.svg\"/>\n",
      "    <img alt=\"\" src=\"/assets/images/icons/brand/bones/full.svg\"/>\n",
      "   </a>\n",
      "  </div>\n",
      "  <div class=\"subtitle\">\n",
      "   <a href=\"/restaurant/city/san_francisco_ca_us/\">\n",
      "    San Francisco\n",
      "   </a>\n",
      "  </div>\n",
      " </div>\n",
      " <div class=\"overlay-info\">\n",
      "  <div class=\"overlay-name\">\n",
      "   <a href=\"/restaurant/70742\" target=\"_blank\">\n",
      "    <span>\n",
      "     Another Cafe\n",
      "    </span>\n",
      "   </a>\n",
      "  </div>\n",
      "  <a class=\"close-button\">\n",
      "  </a>\n",
      "  <div class=\"description\">\n",
      "   Another Cafe, located in San Francisco, CA, is a casual cafe and coffeehouse that serves up a myriad of delicious eats and tasty beverages. Fido is welcome to join you at one of their pet-friendly outdoor tables while you enjoy your day. Try the Caprese Panini with pesto mayo, basil, mozzarella, tomatoes, olive oil, and balsamic vinegar. Or go for the Garlic Chicken Panini with garlic mayo, rotisserie chicken, mixed greens, tomatoes, onions, and Swiss on pita bread. Another Cafe is open Monday through Friday from 6am to 8pm, and Saturday through Sunday from 7am to 8pm.\n",
      "  </div>\n",
      "  <div class=\"overlay-button\">\n",
      "   <a href=\"https://www.anothercafesf.com/\" target=\"_blank\">\n",
      "    Visit Website\n",
      "   </a>\n",
      "  </div>\n",
      " </div>\n",
      "</div>\n",
      "<div class=\"info-wrapper\">\n",
      " <div class=\"info\">\n",
      "  <h2>\n",
      "   <a href=\"/restaurant/70382\" itemprop=\"url\" target=\"_blank\">\n",
      "    <span>\n",
      "     Arguello\n",
      "    </span>\n",
      "   </a>\n",
      "  </h2>\n",
      "  <div class=\"bones\">\n",
      "   <a href=\"/restaurant/70382#reviews\" target=\"_blank\">\n",
      "    <img alt=\"\" src=\"/assets/images/icons/brand/bones/empty.svg\"/>\n",
      "    <img alt=\"\" src=\"/assets/images/icons/brand/bones/empty.svg\"/>\n",
      "    <img alt=\"\" src=\"/assets/images/icons/brand/bones/empty.svg\"/>\n",
      "    <img alt=\"\" src=\"/assets/images/icons/brand/bones/empty.svg\"/>\n",
      "    <img alt=\"\" src=\"/assets/images/icons/brand/bones/empty.svg\"/>\n",
      "   </a>\n",
      "  </div>\n",
      "  <div class=\"subtitle\">\n",
      "   <a href=\"/restaurant/city/san_francisco_ca_us/\">\n",
      "    San Francisco\n",
      "   </a>\n",
      "  </div>\n",
      " </div>\n",
      " <div class=\"overlay-info\">\n",
      "  <div class=\"overlay-name\">\n",
      "   <a href=\"/restaurant/70382\" target=\"_blank\">\n",
      "    <span>\n",
      "     Arguello\n",
      "    </span>\n",
      "   </a>\n",
      "  </div>\n",
      "  <a class=\"close-button\">\n",
      "  </a>\n",
      "  <div class=\"description\">\n",
      "   Arguello, located in San Francisco, CA, is a trendy eatery that serves upscale Mexican-style fare. Fido is welcome to join you at one of their pet-friendly outdoor tables while you enjoy your meal. Start off with a craft cocktail and an order of the Ceviche Verde with red snapper, avocado, serrano, cilantro, tomatillos, and plantain chips. Next, tuck into the Bistec a la Parilla - wagyu steak with guajillo potatoes, asparagus, morita salsa, and green onions. Or go for the Mole Amarillo - chile costeno mole, seasonal veggies, green garlic, chochoyotes, and pumpkin seeds. Arguello is open Tuesday from 11am to 4pm, Wednesday through Saturday from 11am to 9pm, and Sunday from 11am to 4pm.\n",
      "  </div>\n",
      "  <div class=\"overlay-button\">\n",
      "   <a href=\"https://www.arguellosf.com/\" target=\"_blank\">\n",
      "    Visit Website\n",
      "   </a>\n",
      "  </div>\n",
      " </div>\n",
      "</div>\n"
     ]
    }
   ],
   "source": [
    "# Get the HTML content and find all \"div\" tags with class \"info-wrapper\" (where restaurant data is nested)\n",
    "# Print out the data for exam\n",
    "\n",
    "content = getHTMLContent(dog_url_main)\n",
    "rest_data = content.find_all('div', class_=\"info-wrapper\")\n",
    "for restaurant in rest_data:\n",
    "    print(restaurant.prettify())"
   ]
  },
  {
   "cell_type": "code",
   "execution_count": 4,
   "metadata": {},
   "outputs": [],
   "source": [
    "# Above code only showing 4 results\n",
    "# Try another method\n",
    "\n",
    "# Set new URL to be scraped\n",
    "\n",
    "dog_url = \"https://www.bringfido.com/restaurant/city/san_francisco_ca_us/\"\n",
    "r_1 = requests.get(dog_url)\n",
    "soup_1 = BeautifulSoup(r_1.text, \"html.parser\")\n",
    "\n",
    "# Try finding all \"div\" tags with class\"entity-snapshot column column-xs-full column-sm-3 column-lg-2\"\n",
    "\n",
    "results_1 = soup_1.find_all(\"div\", class_=\"entity-snapshot column column-xs-full column-sm-3 column-lg-2\")"
   ]
  },
  {
   "cell_type": "code",
   "execution_count": 5,
   "metadata": {},
   "outputs": [
    {
     "data": {
      "text/plain": [
       "4"
      ]
     },
     "execution_count": 5,
     "metadata": {},
     "output_type": "execute_result"
    }
   ],
   "source": [
    "# See how many results there are\n",
    "\n",
    "len(results_1)"
   ]
  },
  {
   "cell_type": "code",
   "execution_count": 6,
   "metadata": {},
   "outputs": [
    {
     "data": {
      "text/plain": [
       "[<div class=\"entity-snapshot column column-xs-full column-sm-3 column-lg-2\" data-city=\"san_francisco_ca_us\" data-name=\"Palomino Restaurant &amp; Bar\" data-popularity=\"25441\" data-rating=\"4.7\" data-type=\"American Restaurant\" id=\"entity_1518\"><div class=\"entity-wrapper\" itemprop=\"itemListElement\" itemscope=\"\" itemtype=\"https://schema.org/ListItem\"><meta content=\"1\" itemprop=\"position\"/><div class=\"photo\"><a href=\"/restaurant/1518\" target=\"_blank\"><img alt=\"Pet Friendly Palomino Restaurant &amp; Bar in San Francisco, CA\" class=\"lozad multiple-densities\" data-src1x=\"https://photos.bringfido.com/restaurants/1518/20160616_1982_1518.jpg?size=tile&amp;density=1x\" data-src2x=\"https://photos.bringfido.com/restaurants/1518/20160616_1982_1518.jpg?size=tile&amp;density=2x\" onload=\"window.photoLoaded(this);\"/></a></div><a class=\"paw\" href=\"javascript:void(0);\"></a><div class=\"info-wrapper\"><div class=\"info\"><h2><a href=\"/restaurant/1518\" itemprop=\"url\" target=\"_blank\"><span>Palomino Restaurant &amp; Bar</span></a></h2><div class=\"bones\"><a href=\"/restaurant/1518#reviews\" target=\"_blank\"><img alt=\"\" src=\"/assets/images/icons/brand/bones/full.svg\"/><img alt=\"\" src=\"/assets/images/icons/brand/bones/full.svg\"/><img alt=\"\" src=\"/assets/images/icons/brand/bones/full.svg\"/><img alt=\"\" src=\"/assets/images/icons/brand/bones/full.svg\"/><img alt=\"\" src=\"/assets/images/icons/brand/bones/three-quarters.svg\"/></a></div><div class=\"subtitle\"><a href=\"/restaurant/city/san_francisco_ca_us/\">\n",
       " San Francisco\n",
       " </a></div></div><div class=\"overlay-info\"><div class=\"overlay-name\"><a href=\"/restaurant/1518\" target=\"_blank\"><span>Palomino Restaurant &amp; Bar</span></a></div><a class=\"close-button\"></a><div class=\"description\">\n",
       " The delicious New American Mediterranean-style fare at Palomino's can be enjoyed outdoors on the dog-friendly patio. Menu features tasty options such as crispy calamari, Sicilian meatballs, charred kale salad, artisan pizzas, rigatoni bolognese, prawn scampi, and grilled filet mignon. Opens Monday thru Friday at 11:15am and 11am on weekends.\n",
       " </div><div class=\"overlay-button\"><a href=\"http://www.palomino.com/page/home\" target=\"_blank\">\n",
       " Visit Website\n",
       " </a></div></div></div></div></div>,\n",
       " <div class=\"entity-snapshot column column-xs-full column-sm-3 column-lg-2\" data-city=\"san_francisco_ca_us\" data-name=\"Universal Cafe\" data-popularity=\"19973\" data-rating=\"5.0\" data-type=\"American Restaurant\" id=\"entity_1870\"><div class=\"entity-wrapper\" itemprop=\"itemListElement\" itemscope=\"\" itemtype=\"https://schema.org/ListItem\"><meta content=\"2\" itemprop=\"position\"/><div class=\"photo\"><a href=\"/restaurant/1870\" target=\"_blank\"><img alt=\"Pet Friendly Universal Cafe in San Francisco, CA\" class=\"lozad multiple-densities\" data-src1x=\"https://photos.bringfido.com/restaurants/1870/20160616_25301_1870.jpg?size=tile&amp;density=1x\" data-src2x=\"https://photos.bringfido.com/restaurants/1870/20160616_25301_1870.jpg?size=tile&amp;density=2x\" onload=\"window.photoLoaded(this);\"/></a></div><a class=\"paw\" href=\"javascript:void(0);\"></a><div class=\"info-wrapper\"><div class=\"info\"><h2><a href=\"/restaurant/1870\" itemprop=\"url\" target=\"_blank\"><span>Universal Cafe</span></a></h2><div class=\"bones\"><a href=\"/restaurant/1870#reviews\" target=\"_blank\"><img alt=\"\" src=\"/assets/images/icons/brand/bones/full.svg\"/><img alt=\"\" src=\"/assets/images/icons/brand/bones/full.svg\"/><img alt=\"\" src=\"/assets/images/icons/brand/bones/full.svg\"/><img alt=\"\" src=\"/assets/images/icons/brand/bones/full.svg\"/><img alt=\"\" src=\"/assets/images/icons/brand/bones/full.svg\"/></a></div><div class=\"subtitle\"><a href=\"/restaurant/city/san_francisco_ca_us/\">\n",
       " San Francisco\n",
       " </a></div></div><div class=\"overlay-info\"><div class=\"overlay-name\"><a href=\"/restaurant/1870\" target=\"_blank\"><span>Universal Cafe</span></a></div><a class=\"close-button\"></a><div class=\"description\">\n",
       " Universal Cafe has been a Mission District staple since 1994, offering an ever changing New American menu featuring a rotating roster of awesome seasonal eats as well as dog-friendly outdoor seating. Sample delicious dishes like house gnocchi with blue cheese, mushroom ravioli, roasted chicken, and char-grilled country pork chops, plus weekday and weekday brunch food. Open for dinner Monday thru Friday at 5:30pm.\n",
       " </div><div class=\"overlay-button\"><a href=\"http://www.universalcafe.net/\" target=\"_blank\">\n",
       " Visit Website\n",
       " </a></div></div></div></div></div>,\n",
       " <div class=\"entity-snapshot column column-xs-full column-sm-3 column-lg-2\" data-city=\"san_francisco_ca_us\" data-name=\"Park Chalet Garden Restaurant \" data-popularity=\"14984\" data-rating=\"5.0\" data-type=\"Mexican Restaurant\" id=\"entity_7352\"><div class=\"entity-wrapper\" itemprop=\"itemListElement\" itemscope=\"\" itemtype=\"https://schema.org/ListItem\"><meta content=\"3\" itemprop=\"position\"/><div class=\"photo\"><a href=\"/restaurant/7352\" target=\"_blank\"><img alt=\"Pet Friendly Park Chalet Garden Restaurant  in San Francisco, CA\" class=\"lozad multiple-densities\" data-src1x=\"https://photos.bringfido.com/restaurants/7352/20160616_6953_7352.jpg?size=tile&amp;density=1x\" data-src2x=\"https://photos.bringfido.com/restaurants/7352/20160616_6953_7352.jpg?size=tile&amp;density=2x\" onload=\"window.photoLoaded(this);\"/></a></div><a class=\"paw\" href=\"javascript:void(0);\"></a><div class=\"info-wrapper\"><div class=\"info\"><h2><a href=\"/restaurant/7352\" itemprop=\"url\" target=\"_blank\"><span>Park Chalet Garden Restaurant </span></a></h2><div class=\"bones\"><a href=\"/restaurant/7352#reviews\" target=\"_blank\"><img alt=\"\" src=\"/assets/images/icons/brand/bones/full.svg\"/><img alt=\"\" src=\"/assets/images/icons/brand/bones/full.svg\"/><img alt=\"\" src=\"/assets/images/icons/brand/bones/full.svg\"/><img alt=\"\" src=\"/assets/images/icons/brand/bones/full.svg\"/><img alt=\"\" src=\"/assets/images/icons/brand/bones/full.svg\"/></a></div><div class=\"subtitle\"><a href=\"/restaurant/city/san_francisco_ca_us/\">\n",
       " San Francisco\n",
       " </a></div></div><div class=\"overlay-info\"><div class=\"overlay-name\"><a href=\"/restaurant/7352\" target=\"_blank\"><span>Park Chalet Garden Restaurant </span></a></div><a class=\"close-button\"></a><div class=\"description\">\n",
       " Park Chalet in San Francisco has a huge lawn out back with tables and is one of the best dog-friendly restaurants in the city.\n",
       " </div><div class=\"overlay-button\"><a href=\"http://parkchalet.com/\" target=\"_blank\">\n",
       " Visit Website\n",
       " </a></div></div></div></div></div>,\n",
       " <div class=\"entity-snapshot column column-xs-full column-sm-3 column-lg-2\" data-city=\"san_francisco_ca_us\" data-name=\"Toronado Pub\" data-popularity=\"12141\" data-rating=\"5.0\" data-type=\"Bar or Pub\" id=\"entity_3159\"><div class=\"entity-wrapper\" itemprop=\"itemListElement\" itemscope=\"\" itemtype=\"https://schema.org/ListItem\"><meta content=\"4\" itemprop=\"position\"/><div class=\"photo\"><a href=\"/restaurant/3159\" target=\"_blank\"><img alt=\"Pet Friendly Toronado Pub in San Francisco, CA\" class=\"lozad multiple-densities\" data-src1x=\"https://photos.bringfido.com/restaurants/9/5/1/3159/3159_48357.jpg?size=tile&amp;density=1x\" data-src2x=\"https://photos.bringfido.com/restaurants/9/5/1/3159/3159_48357.jpg?size=tile&amp;density=2x\" onload=\"window.photoLoaded(this);\"/></a></div><a class=\"paw\" href=\"javascript:void(0);\"></a><div class=\"info-wrapper\"><div class=\"info\"><h2><a href=\"/restaurant/3159\" itemprop=\"url\" target=\"_blank\"><span>Toronado Pub</span></a></h2><div class=\"bones\"><a href=\"/restaurant/3159#reviews\" target=\"_blank\"><img alt=\"\" src=\"/assets/images/icons/brand/bones/full.svg\"/><img alt=\"\" src=\"/assets/images/icons/brand/bones/full.svg\"/><img alt=\"\" src=\"/assets/images/icons/brand/bones/full.svg\"/><img alt=\"\" src=\"/assets/images/icons/brand/bones/full.svg\"/><img alt=\"\" src=\"/assets/images/icons/brand/bones/full.svg\"/></a></div><div class=\"subtitle\"><a href=\"/restaurant/city/san_francisco_ca_us/\">\n",
       " San Francisco\n",
       " </a></div></div><div class=\"overlay-info\"><div class=\"overlay-name\"><a href=\"/restaurant/3159\" target=\"_blank\"><span>Toronado Pub</span></a></div><a class=\"close-button\"></a><div class=\"description\">\n",
       " Toronado Pub offers up to 40 rotating craft beers on tap from across the globe and over 70 more in bottles and cans in a friendly dive bar-like setting that welcomes leashed dogs. Great spot to gather for after-work drinks, catch some live music, or relax on a lazy Saturday afternoon. Open daily from 11:30am to 2am.\n",
       " </div><div class=\"overlay-button\"><a href=\"http://www.toronado.com/\" target=\"_blank\">\n",
       " Visit Website\n",
       " </a></div></div></div></div></div>]"
      ]
     },
     "execution_count": 6,
     "metadata": {},
     "output_type": "execute_result"
    }
   ],
   "source": [
    "# Display results for review\n",
    "\n",
    "results_1"
   ]
  },
  {
   "cell_type": "code",
   "execution_count": 15,
   "metadata": {},
   "outputs": [],
   "source": [
    "# Try with chromedriver\n",
    "\n",
    "dog_url = \"https://www.bringfido.com/restaurant/city/san_francisco_ca_us/\"\n",
    "\n",
    "# Initialize browser function\n",
    "\n",
    "def init_browser():\n",
    "    executable_path = {'executable_path': 'chromedriver.exe'}\n",
    "\n",
    "    # For Mac Users:\n",
    "    # executable_path = {\"executable_path\": \"/usr/local/bin/chromedriver\"}\n",
    "\n",
    "    return Browser('chrome', **executable_path, headless=False)\n",
    "\n",
    "# The following function will scrape bringfido website for data and return a Python dictionary of the data collected\n",
    "\n",
    "def scrape(dog_url):\n",
    "\n",
    "    # Initialize browser\n",
    "\n",
    "    browser = init_browser()\n",
    "\n",
    "    # Create an empty list to store scraped dog restaurant data\n",
    "\n",
    "    dog_scrapped_data = []\n",
    "\n",
    "    ############################\n",
    "\n",
    "    # Bring Fido dog friendly restaurants (https://www.bringfido.com/restaurant/city/san_francisco_ca_us/)\n",
    "\n",
    "    browser.visit(dog_url)\n",
    "    time.sleep(3)\n",
    "    dog_html = browser.html\n",
    "    dog_soup = BeautifulSoup(dog_html, 'html.parser')\n",
    "    restaurant_names = dog_soup.find_all('div', class_=\"info-wrapper\")\n",
    "    \n",
    "    for restaurant in restaurant_names:\n",
    "        dog_scrapped_data.append(restaurant)\n",
    "    \n",
    "    browser.quit()\n",
    "\n",
    "    return dog_scrapped_data"
   ]
  },
  {
   "cell_type": "code",
   "execution_count": 16,
   "metadata": {},
   "outputs": [],
   "source": [
    "# Use above function to scrape site\n",
    "\n",
    "dog_scrapped_data = scrape(dog_url)"
   ]
  },
  {
   "cell_type": "code",
   "execution_count": 21,
   "metadata": {},
   "outputs": [
    {
     "data": {
      "text/plain": [
       "24"
      ]
     },
     "execution_count": 21,
     "metadata": {},
     "output_type": "execute_result"
    }
   ],
   "source": [
    "# Check results \n",
    "\n",
    "len(dog_scrapped_data)"
   ]
  },
  {
   "cell_type": "code",
   "execution_count": 20,
   "metadata": {},
   "outputs": [
    {
     "data": {
      "text/plain": [
       "<div class=\"info-wrapper\"><div class=\"info\"><h2><a href=\"/restaurant/1870\" itemprop=\"url\" target=\"_blank\"><span>Universal Cafe</span></a></h2><div class=\"bones\"><a href=\"/restaurant/1870#reviews\" target=\"_blank\"><img alt=\"\" src=\"/assets/images/icons/brand/bones/full.svg\"/><img alt=\"\" src=\"/assets/images/icons/brand/bones/full.svg\"/><img alt=\"\" src=\"/assets/images/icons/brand/bones/full.svg\"/><img alt=\"\" src=\"/assets/images/icons/brand/bones/full.svg\"/><img alt=\"\" src=\"/assets/images/icons/brand/bones/full.svg\"/></a></div><div class=\"subtitle\"><a href=\"/restaurant/city/san_francisco_ca_us/\">\n",
       "San Francisco\n",
       "</a></div></div><div class=\"overlay-info\"><div class=\"overlay-name\"><a href=\"/restaurant/1870\" target=\"_blank\"><span>Universal Cafe</span></a></div><a class=\"close-button\"></a><div class=\"description\">\n",
       "Universal Cafe has been a Mission District staple since 1994, offering an ever changing New American menu featuring a rotating roster of awesome seasonal eats as well as dog-friendly outdoor seating. Sample delicious dishes like house gnocchi with blue cheese, mushroom ravioli, roasted chicken, and char-grilled country pork chops, plus weekday and weekday brunch food. Open for dinner Monday thru Friday at 5:30pm.\n",
       "</div><div class=\"overlay-button\"><a href=\"http://www.universalcafe.net/\" target=\"_blank\">\n",
       "Visit Website\n",
       "</a></div></div></div>"
      ]
     },
     "execution_count": 20,
     "metadata": {},
     "output_type": "execute_result"
    }
   ],
   "source": [
    "# Display one of the items in the list to look at data collected\n",
    "\n",
    "dog_scrapped_data[1]"
   ]
  }
 ],
 "metadata": {
  "kernelspec": {
   "display_name": "Python [conda env:PythonData]",
   "language": "python",
   "name": "conda-env-PythonData-py"
  },
  "language_info": {
   "codemirror_mode": {
    "name": "ipython",
    "version": 3
   },
   "file_extension": ".py",
   "mimetype": "text/x-python",
   "name": "python",
   "nbconvert_exporter": "python",
   "pygments_lexer": "ipython3",
   "version": "3.6.9"
  }
 },
 "nbformat": 4,
 "nbformat_minor": 2
}
