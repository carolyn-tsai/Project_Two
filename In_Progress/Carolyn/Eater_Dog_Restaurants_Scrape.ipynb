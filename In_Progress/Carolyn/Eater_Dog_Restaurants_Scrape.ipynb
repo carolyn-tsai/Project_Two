{
 "cells": [
  {
   "cell_type": "code",
   "execution_count": null,
   "metadata": {},
   "outputs": [],
   "source": [
    "# Import dependencies\n",
    "\n",
    "import pandas as pd\n",
    "from bs4 import BeautifulSoup\n",
    "import requests\n",
    "from urllib.request import urlopen\n",
    "from splinter import Browser\n",
    "import time\n",
    "from googlemaps import Client as GoogleMaps"
   ]
  },
  {
   "cell_type": "code",
   "execution_count": null,
   "metadata": {},
   "outputs": [],
   "source": [
    "# Set the URL that will be scraped to a variable\n",
    "# https://sf.eater.com with filters for San Francisco dog friendly restaurants\n",
    "\n",
    "url = \"https://sf.eater.com/maps/san-francisco-dog-friendly-bars-restaurants\"\n",
    "\n",
    "# Create function to get html from website using Beautiful Soup\n",
    "\n",
    "def getHTMLContent(link):\n",
    "    html = urlopen(link)\n",
    "    soup = BeautifulSoup(html, \"html.parser\")\n",
    "    return soup\n",
    "\n",
    "# Use the function created above and pass through the URL defined earlier\n",
    "\n",
    "content = getHTMLContent(url)\n",
    "\n",
    "# From the content collected, find all tags \"div\" with class \"c-mapstack__card-hed\"\n",
    "# Each of the restaurant data is found within the html tag and class\n",
    "\n",
    "rest_data = content.find_all(\"div\", class_=\"c-mapstack__card-hed\")"
   ]
  },
  {
   "cell_type": "code",
   "execution_count": null,
   "metadata": {},
   "outputs": [],
   "source": [
    "# Check the amount of restaurants to see if data makes sense\n",
    "\n",
    "len(rest_data)"
   ]
  },
  {
   "cell_type": "code",
   "execution_count": null,
   "metadata": {},
   "outputs": [],
   "source": [
    "# Create empty list to store restaurant names\n",
    "\n",
    "list_names = []\n",
    "\n",
    "# Create for loop to get the restaurant names without the extra characters\n",
    "\n",
    "for name in rest_names:\n",
    "    item = name[4:]\n",
    "    list_names.append(item)\n",
    "    \n",
    "# Display the names to check if data was correctly gathered\n",
    "\n",
    "list_names"
   ]
  },
  {
   "cell_type": "code",
   "execution_count": null,
   "metadata": {},
   "outputs": [],
   "source": [
    "# Data has unwanted characters\n",
    "# Create a new empty list to store corrected names\n",
    "\n",
    "clean_list = []\n",
    "\n",
    "# Create a for loop to go through each restaurant name and get rid of \"\\xa0\"\n",
    "\n",
    "for name in list_names:\n",
    "    item = name.replace(\"\\xa0\", \" \")\n",
    "    clean_list.append(item)\n",
    "\n",
    "# Display the restaurant names    \n",
    "    \n",
    "clean_list"
   ]
  },
  {
   "cell_type": "code",
   "execution_count": null,
   "metadata": {},
   "outputs": [],
   "source": [
    "# Find the restaurant address and which tag and class the text falls between\n",
    "\n",
    "rest_address = content.find_all(\"div\", class_=\"c-mapstack__info\")\n",
    "\n",
    "# Create empty list to store the restaurant addresses\n",
    "\n",
    "address_list_items = []\n",
    "\n",
    "# Create a for loop to find the address for each restaurant and append it to the empty list created above\n",
    "\n",
    "for i in rest_address:\n",
    "    address = i.find(\"div\", class_=\"c-mapstack__address\").contents\n",
    "    address_list_items.append(address)\n",
    "    \n",
    "# Display the addresses\n",
    "\n",
    "address_list_items"
   ]
  },
  {
   "cell_type": "code",
   "execution_count": null,
   "metadata": {},
   "outputs": [],
   "source": [
    "# Clean up the address list\n",
    "# Create a new empty list\n",
    "\n",
    "new_address_list=[]\n",
    "\n",
    "# Create for loop to separate out the street address and city, state, zip\n",
    "# Use f-string to get the address into one line\n",
    "\n",
    "for i in address_list_items:\n",
    "    data = f\"{i[0]}, {i[2]}\"\n",
    "    new_address_list.append(data)\n",
    "    \n",
    "# Display the addresses\n",
    "\n",
    "new_address_list"
   ]
  },
  {
   "cell_type": "code",
   "execution_count": null,
   "metadata": {},
   "outputs": [],
   "source": [
    "# Create an empty dictionary to store the data\n",
    "\n",
    "final_df = {}\n",
    "\n",
    "# Set the values collected above to the appropriate key\n",
    "# For the addresses, there are duplicates. Select only the addresses needed\n",
    "\n",
    "final_df[\"name\"] = clean_list\n",
    "final_df[\"address\"] = new_list[0:12]\n"
   ]
  },
  {
   "cell_type": "code",
   "execution_count": null,
   "metadata": {},
   "outputs": [],
   "source": [
    "# Convert the dictionary to a Pandas Data Frame\n",
    "\n",
    "final_data = pd.DataFrame.from_dict(final_df)\n",
    "\n",
    "# Display the data frame\n",
    "\n",
    "final_data"
   ]
  },
  {
   "cell_type": "code",
   "execution_count": null,
   "metadata": {},
   "outputs": [],
   "source": [
    "# Since the website did not have lat and long information, I will use google API to get the lat and long for each restaurant\n",
    "\n",
    "google_API = \"API KEY HERE!\"\n",
    "\n",
    "# Use GoogleMaps function to get gmaps\n",
    "\n",
    "gmaps = GoogleMaps(google_API)\n",
    "\n",
    "# Add empty columns to the final_data data frame for the latitude and longitude\n",
    "\n",
    "final_data[\"latitude\"] = \"\"\n",
    "final_data[\"longitude\"] = \"\""
   ]
  },
  {
   "cell_type": "code",
   "execution_count": null,
   "metadata": {},
   "outputs": [],
   "source": [
    "# Create a for loop to get the latitude and longitude given the address\n",
    "\n",
    "for i in range(len(final_data[\"address\"])):\n",
    "    geocode_results = gmaps.geocode(final_data[\"address\"][i])\n",
    "    final_data[\"latitude\"][i] = geocode_results[0][\"geometry\"][\"location\"][\"lat\"]\n",
    "    final_data['longitude'][i] = geocode_results[0]['geometry']['location']['lng']"
   ]
  },
  {
   "cell_type": "code",
   "execution_count": null,
   "metadata": {},
   "outputs": [],
   "source": [
    "# Check to see if data was collected correctly\n",
    "\n",
    "final_data"
   ]
  },
  {
   "cell_type": "code",
   "execution_count": null,
   "metadata": {},
   "outputs": [],
   "source": [
    "# Save the data to a CSV file to be used later\n",
    "\n",
    "final_data.to_csv(\"eater_dog_rest.csv\", index=False)"
   ]
  }
 ],
 "metadata": {
  "kernelspec": {
   "display_name": "Python [conda env:PythonData]",
   "language": "python",
   "name": "conda-env-PythonData-py"
  },
  "language_info": {
   "codemirror_mode": {
    "name": "ipython",
    "version": 3
   },
   "file_extension": ".py",
   "mimetype": "text/x-python",
   "name": "python",
   "nbconvert_exporter": "python",
   "pygments_lexer": "ipython3",
   "version": "3.6.9"
  }
 },
 "nbformat": 4,
 "nbformat_minor": 2
}
