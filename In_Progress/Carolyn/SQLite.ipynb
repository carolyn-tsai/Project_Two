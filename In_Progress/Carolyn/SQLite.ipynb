{
 "cells": [
  {
   "cell_type": "code",
   "execution_count": 10,
   "metadata": {},
   "outputs": [
    {
     "name": "stdout",
     "output_type": "stream",
     "text": [
      "unable to open database file\n",
      "Error! cannot create the database connection.\n"
     ]
    }
   ],
   "source": [
    "import sqlite3\n",
    "from sqlite3 import Error\n",
    "from sqlalchemy import create_engine\n",
    "from sqlalchemy import Column, Integer, String, Float\n",
    "\n",
    "db_file = create_engine('sqlite:///restaurant_data.db')\n",
    "\n",
    "def create_connection(db_file):\n",
    "    \"\"\" create a database connection to the SQLite database\n",
    "        specified by db_file\n",
    "    :param db_file: database file\n",
    "    :return: Connection object or None\n",
    "    \"\"\"\n",
    "    conn = None\n",
    "    try:\n",
    "        conn = sqlite3.connect(db_file)\n",
    "        return conn\n",
    "    except Error as e:\n",
    "        print(e)\n",
    " \n",
    "    return conn\n",
    " \n",
    " \n",
    "def create_table(conn, create_table_sql):\n",
    "    \"\"\" create a table from the create_table_sql statement\n",
    "    :param conn: Connection object\n",
    "    :param create_table_sql: a CREATE TABLE statement\n",
    "    :return:\n",
    "    \"\"\"\n",
    "    try:\n",
    "        c = conn.cursor()\n",
    "        c.execute(create_table_sql)\n",
    "    except Error as e:\n",
    "        print(e)\n",
    " \n",
    " \n",
    "def main():\n",
    "    database = r\"C:\\sqlite\\db\\pythonsqlite.db\"\n",
    " \n",
    "    sql_create_both_table = \"\"\"CREATE TABLE IF NOT EXISTS both_restaurants (\n",
    "                                id = Column(Integer, primary_key=True),\n",
    "                                rest_name = Column(String(500)),\n",
    "                                latitude = Column(Float),\n",
    "                                longitude = Column(Float),\n",
    "                                rest_address = Column(String(5000)),\n",
    "                                zip_code = Column(String(5)),\n",
    "                                website = Column(String(9000)),\n",
    "                                neighborhood = Column(String(5000))\n",
    "                            );\"\"\"\n",
    " \n",
    "    sql_create_dog_table = \"\"\"CREATE TABLE IF NOT EXISTS dog_restaurants (\n",
    "                                id = Column(Integer, primary_key=True),\n",
    "                                rest_name = Column(String(500)),\n",
    "                                latitude = Column(Float),\n",
    "                                longitude = Column(Float),\n",
    "                                rest_address = Column(String(5000)),\n",
    "                                zip_code = Column(String(5)),\n",
    "                                website = Column(String(9000)),\n",
    "                                neighborhood = Column(String(5000))\n",
    "                            );\"\"\"\n",
    " \n",
    "    sql_create_wc_table = \"\"\"CREATE TABLE IF NOT EXISTS wc_restaurants (\n",
    "                                id integer PRIMARY KEY,\n",
    "                                rest_name text NOT NULL,\n",
    "                                latitude integer NOT NULL,\n",
    "                                longitude integer NOT NULL,\n",
    "                                rest_address text NOT NULL,\n",
    "                                zip_code text NOT NULL,\n",
    "                                website text NOT NULL,\n",
    "                                neighborhood text NOT NULL\n",
    "                            );\"\"\"\n",
    "    # create a database connection\n",
    "    conn = create_connection(database)\n",
    " \n",
    "    # create tables\n",
    "    if conn is not None:\n",
    "        # create projects table\n",
    "        create_table(conn, sql_create_both_table)\n",
    " \n",
    "        # create tasks table\n",
    "        create_table(conn, sql_create_dog_table)\n",
    "        \n",
    "        # create tasks table\n",
    "        create_table(conn, sql_create_wc_table)\n",
    "    else:\n",
    "        print(\"Error! cannot create the database connection.\")\n",
    " \n",
    " \n",
    "if __name__ == '__main__':\n",
    "    main()"
   ]
  },
  {
   "cell_type": "code",
   "execution_count": null,
   "metadata": {},
   "outputs": [],
   "source": [
    "\n",
    "-- projects table\n",
    "CREATE TABLE IF NOT EXISTS projects (\n",
    "    id integer PRIMARY KEY,\n",
    "    name text NOT NULL,\n",
    "    begin_date text,\n",
    "    end_date text\n",
    ");\n",
    " \n",
    "-- tasks table\n",
    "CREATE TABLE IF NOT EXISTS tasks (\n",
    "    id integer PRIMARY KEY,\n",
    "    name text NOT NULL,\n",
    "    priority integer,\n",
    "    project_id integer NOT NULL,\n",
    "    status_id integer NOT NULL,\n",
    "    begin_date text NOT NULL,\n",
    "    end_date text NOT NULL,\n",
    "    FOREIGN KEY (project_id) REFERENCES projects (id)\n",
    ");"
   ]
  },
  {
   "cell_type": "code",
   "execution_count": 7,
   "metadata": {},
   "outputs": [],
   "source": [
    "engine = create_engine('sqlite:///restaurants.db')"
   ]
  },
  {
   "cell_type": "code",
   "execution_count": 5,
   "metadata": {},
   "outputs": [
    {
     "ename": "NameError",
     "evalue": "name 'create_engine' is not defined",
     "output_type": "error",
     "traceback": [
      "\u001b[1;31m---------------------------------------------------------------------------\u001b[0m",
      "\u001b[1;31mNameError\u001b[0m                                 Traceback (most recent call last)",
      "\u001b[1;32m<ipython-input-5-37c12edb4b0d>\u001b[0m in \u001b[0;36m<module>\u001b[1;34m\u001b[0m\n\u001b[1;32m----> 1\u001b[1;33m \u001b[0mengine\u001b[0m \u001b[1;33m=\u001b[0m \u001b[0mcreate_engine\u001b[0m\u001b[1;33m(\u001b[0m\u001b[1;34m'sqlite:///restaurants.db'\u001b[0m\u001b[1;33m)\u001b[0m\u001b[1;33m\u001b[0m\u001b[1;33m\u001b[0m\u001b[0m\n\u001b[0m",
      "\u001b[1;31mNameError\u001b[0m: name 'create_engine' is not defined"
     ]
    }
   ],
   "source": []
  }
 ],
 "metadata": {
  "kernelspec": {
   "display_name": "Python [conda env:PythonData]",
   "language": "python",
   "name": "conda-env-PythonData-py"
  },
  "language_info": {
   "codemirror_mode": {
    "name": "ipython",
    "version": 3
   },
   "file_extension": ".py",
   "mimetype": "text/x-python",
   "name": "python",
   "nbconvert_exporter": "python",
   "pygments_lexer": "ipython3",
   "version": "3.6.9"
  }
 },
 "nbformat": 4,
 "nbformat_minor": 2
}
