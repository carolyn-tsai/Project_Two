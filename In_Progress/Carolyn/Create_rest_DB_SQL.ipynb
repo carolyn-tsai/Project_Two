{
 "cells": [
  {
   "cell_type": "code",
   "execution_count": 8,
   "metadata": {},
   "outputs": [],
   "source": [
    "# Import dependencies\n",
    "\n",
    "import sqlite3\n",
    "\n",
    "sqlite_file = 'rest_data.sqlite'    # name of the sqlite database file\n",
    "\n",
    "# Connecting to the database file\n",
    "conn = sqlite3.connect(sqlite_file)\n",
    "c = conn.cursor()\n",
    "\n",
    "# Creating a new SQLite table with 1 column\n",
    "c.execute('''\n",
    "        CREATE TABLE IF NOT EXISTS both_restaurants (\n",
    "                                id integer PRIMARY KEY,\n",
    "                                rest_name text NOT NULL,\n",
    "                                latitude integer NOT NULL,\n",
    "                                longitude integer NOT NULL,\n",
    "                                rest_address text NOT NULL,\n",
    "                                zip_code text NOT NULL,\n",
    "                                website text NOT NULL,\n",
    "                                neighborhood text NOT NULL\n",
    "                                );\n",
    "        '''\n",
    "    )\n",
    "\n",
    "c.execute('''\n",
    "        CREATE TABLE IF NOT EXISTS dog_restaurants (\n",
    "                                id integer PRIMARY KEY,\n",
    "                                rest_name text NOT NULL,\n",
    "                                latitude integer NOT NULL,\n",
    "                                longitude integer NOT NULL,\n",
    "                                rest_address text NOT NULL,\n",
    "                                zip_code text NOT NULL,\n",
    "                                website text NOT NULL,\n",
    "                                neighborhood text NOT NULL\n",
    "                                );\n",
    "        '''\n",
    "    )\n",
    "\n",
    "c.execute('''\n",
    "        CREATE TABLE IF NOT EXISTS wc_restaurants (\n",
    "                                id integer PRIMARY KEY,\n",
    "                                rest_name text NOT NULL,\n",
    "                                latitude integer NOT NULL,\n",
    "                                longitude integer NOT NULL,\n",
    "                                rest_address text NOT NULL,\n",
    "                                zip_code text NOT NULL,\n",
    "                                website text NOT NULL,\n",
    "                                neighborhood text NOT NULL\n",
    "                                );\n",
    "        '''\n",
    "    )\n",
    "# Committing changes and closing the connection to the database file\n",
    "conn.commit()\n",
    "conn.close()"
   ]
  },
  {
   "cell_type": "code",
   "execution_count": 16,
   "metadata": {},
   "outputs": [],
   "source": [
    "# Import dependencies\n",
    "\n",
    "import os\n",
    "import csv\n",
    "import pandas as pd\n",
    "import numpy as np\n",
    "\n",
    "# Define file\n",
    "\n",
    "file_1 = \"SQL_dog.csv\"\n",
    "file_2 = \"SQL_wc.csv\"\n",
    "file_3 = \"SQL_both.csv\"\n",
    "\n",
    "# Read the CSV files\n",
    "\n",
    "dog_df = pd.read_csv(file_1, encoding=\"UTF-8\", low_memory = False)    \n",
    "wc_df = pd.read_csv(file_2, encoding=\"UTF-8\", low_memory = False) \n",
    "wc_dog_df = pd.read_csv(file_3, encoding=\"UTF-8\", low_memory = False)"
   ]
  },
  {
   "cell_type": "code",
   "execution_count": 17,
   "metadata": {},
   "outputs": [
    {
     "name": "stdout",
     "output_type": "stream",
     "text": [
      "1): [(4, 'a Mano', 37.7768993, -122.4240297, '450 Hayes St, San Francisco, CA 94102', '94102', 'https://amanosf.com/', 'Hayes'), (5, 'Absinthe', 37.776995, -122.42288500000001, '398 Hayes St, San Francisco, CA 94102', '94102', 'http://www.absinthe.com/', 'Hayes'), (39, 'Birba ', 37.777831, -122.424177, '458 Grove St, San Francisco, CA 94102', '94102', 'http://www.birbawine.com/', 'Hayes'), (51, 'Brass Tacks', 37.7768629, -122.4243929, '488 Hayes St, San Francisco, CA 94102', '94102', 'http://brasstackssf.com/', 'Hayes'), (79, 'Chez Maman - West', 37.77708, -122.42318, ' 401 Gough St, San Francisco, CA 94102', '94102', 'http://www.chezmamansf.com/', 'Hayes'), (174, 'La Boulangerie  - Hayes Valley', 37.7766864, -122.4246696, '500 Hayes St, San Francisco, CA 94102', '94102', 'http://www.laboulangeriesf.com/locations-1/', 'Hayes'), (227, 'Off the Grid City Center ', 37.779492, 122.41761799999999, '355 McAllister St, San Francisco, CA 94102', '94102', 'https://offthegrid.com/', 'Hayes'), (237, 'Off the Grid UN Plaza', 37.780482, -122.413177, '10 United Nations Plaza, San Francisco, CA 94102', '94102', 'https://offthegrid.com/', 'Hayes'), (257, 'Pier 23 Cafe Restaurant & Bar', 37.80337120000001, -122.4030857, 'The Embarcadero, Pier 23, San Francisco, CA 94102', '94102', 'http://pier23cafe.com/', 'Hayes'), (286, 'San Francisco Wine & Cheese ', 37.774689, -122.422723, '141 Gough St, San Francisco, CA 94102', '94102', 'http://countrycheesecoffee.com/', 'Hayes'), (291, 'Scullery', 37.786425, -122.414593, '687 Geary St, San Francisco, CA 94102', '94102', 'https://www.scullerysf.com/', 'Hayes'), (300, 'Slingshot ', 37.78177, -122.41687900000001, '422 Larkin St, San Francisco, CA 94102', '94102', 'https://slinshot-cafe.business.site/?utm_source=gmb&utm_medium=referral', 'Hayes'), (312, 'Stacks', 37.776393, -122.424756, '501 Hayes St, San Francisco, CA 94102', '94102', 'http://www.stacksrestaurant.com/', 'Hayes'), (370, 'Zuni Cafe', 37.773614, -122.42156899999999, '1658 Market St, San Francisco, CA 94102', '94102', 'http://www.zunicafe.com/', 'Hayes')]\n"
     ]
    }
   ],
   "source": [
    "conn = sqlite3.connect(sqlite_file)\n",
    "c = conn.cursor()\n",
    "\n",
    "dog_df.to_sql(\"dog_restaurants\", conn, if_exists='append', index=False)\n",
    "\n",
    "c.execute('SELECT * FROM {tn} WHERE {cn}=\"Hayes\"'.\\\n",
    "        format(tn=\"dog_restaurants\", cn=\"neighborhood\"))\n",
    "all_rows = c.fetchall()\n",
    "print('1):', all_rows)"
   ]
  },
  {
   "cell_type": "code",
   "execution_count": 18,
   "metadata": {},
   "outputs": [],
   "source": [
    "wc_df.to_sql(\"wc_restaurants\", conn, if_exists='append', index=False)\n",
    "wc_dog_df.to_sql(\"both_restaurants\", conn, if_exists='append', index=False)\n"
   ]
  },
  {
   "cell_type": "code",
   "execution_count": 19,
   "metadata": {},
   "outputs": [],
   "source": [
    "conn.commit()"
   ]
  }
 ],
 "metadata": {
  "kernelspec": {
   "display_name": "Python [conda env:PythonData]",
   "language": "python",
   "name": "conda-env-PythonData-py"
  },
  "language_info": {
   "codemirror_mode": {
    "name": "ipython",
    "version": 3
   },
   "file_extension": ".py",
   "mimetype": "text/x-python",
   "name": "python",
   "nbconvert_exporter": "python",
   "pygments_lexer": "ipython3",
   "version": "3.6.9"
  }
 },
 "nbformat": 4,
 "nbformat_minor": 2
}
