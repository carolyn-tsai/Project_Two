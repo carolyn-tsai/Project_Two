{
 "cells": [
  {
   "cell_type": "code",
   "execution_count": null,
   "metadata": {},
   "outputs": [],
   "source": [
    "# Import dependencies\n",
    "\n",
    "import os\n",
    "import csv\n",
    "import pandas as pd\n",
    "import numpy as np\n",
    "\n",
    "# Define file\n",
    "\n",
    "file_1 = \"final_clean_dog_data.csv\"\n",
    "file_2 = \"final_wheelchair_data.csv\"\n",
    "file_3 = \"final_data_both_dog_and_wheelchair.csv\"\n",
    "\n",
    "# Read the CSV files\n",
    "\n",
    "dog_df = pd.read_csv(file_1, encoding=\"UTF-8\", low_memory = False)    \n",
    "wc_df = pd.read_csv(file_2, encoding=\"UTF-8\", low_memory = False) \n",
    "wc_dog_df = pd.read_csv(file_3, encoding=\"UTF-8\", low_memory = False)\n",
    "\n",
    "# Preview Data Frame\n",
    "\n",
    "dog_df.head()"
   ]
  },
  {
   "cell_type": "code",
   "execution_count": null,
   "metadata": {},
   "outputs": [],
   "source": [
    "# Get all zip codes from dog data\n",
    "\n",
    "dog_df[\"zip_code\"].value_counts()"
   ]
  },
  {
   "cell_type": "code",
   "execution_count": null,
   "metadata": {},
   "outputs": [],
   "source": [
    "# Get all zip codes from wheelchair data\n",
    "\n",
    "wc_df[\"zip_code\"].value_counts()"
   ]
  },
  {
   "cell_type": "code",
   "execution_count": null,
   "metadata": {},
   "outputs": [],
   "source": [
    "# Create a function that looks through the zip code values and creates a new column \"neighborhood\" to add the neighborhood info\n",
    "# This is created from the zip codes in all data sets\n",
    "\n",
    "def getNeighborhoodsfromZip(datadf):\n",
    "    datadf[\"neighborhood\"] = np.where(datadf[\"zip_code\"] == 94102, \"Hayes\", \n",
    "                             np.where(datadf[\"zip_code\"] == 94103, \"South of Market\",\n",
    "                             np.where(datadf[\"zip_code\"] == 94107, \"Potrero Hill\",\n",
    "                             np.where(datadf[\"zip_code\"] == 94108, \"Chinatown\",\n",
    "                             np.where(datadf[\"zip_code\"] == 94104, \"Chinatown\",         \n",
    "                             np.where(datadf[\"zip_code\"] == 94109, \"Polk/Russian Hill (Nob Hill)\",\n",
    "                             np.where(datadf[\"zip_code\"] == 94110, \"Inner Mission/Bernal Heights\",\n",
    "                             np.where(datadf[\"zip_code\"] == 94112, \"Ingelside/Excelsior/Crocker-Amazon\", \n",
    "                             np.where(datadf[\"zip_code\"] == 94114, \"Castro/Noe Valley\",\n",
    "                             np.where(datadf[\"zip_code\"] == 94115, \"Western Addition/Japantown\", \n",
    "                             np.where(datadf[\"zip_code\"] == 94116, \"Parkside/Forest Hill\", \n",
    "                             np.where(datadf[\"zip_code\"] == 94117, \"Haight-Ashbury\",\n",
    "                             np.where(datadf[\"zip_code\"] == 94118, \"Inner Richmond\",\n",
    "                             np.where(datadf[\"zip_code\"] == 94121, \"Outer Richmond\",\n",
    "                             np.where(datadf[\"zip_code\"] == 94122, \"Sunset\",\n",
    "                             np.where(datadf[\"zip_code\"] == 94123, \"Marina\",    \n",
    "                             np.where(datadf[\"zip_code\"] == 94124, \"Bayview/Hunters Point\", \n",
    "                             np.where(datadf[\"zip_code\"] == 94127, \"St. Francis Wood/Miraloma/West Portal\",\n",
    "                             np.where(datadf[\"zip_code\"] == 94131, \"Twin Peaks/Glen Park\",  \n",
    "                             np.where(datadf[\"zip_code\"] == 94132, \"Lake Merced\",\n",
    "                             np.where(datadf[\"zip_code\"] == 94133, \"North Beach/Chinatown\",\n",
    "                             np.where(datadf[\"zip_code\"] == 94129, \"Presidio\",     \n",
    "                             np.where(datadf[\"zip_code\"] == 94130, \"Treasure Island\",\n",
    "                             np.where(datadf[\"zip_code\"] == 94965, \"Sausalito/Marin County\",\n",
    "                             np.where(datadf[\"zip_code\"] == 94941, \"Mill Valley\", \n",
    "                             np.where(datadf[\"zip_code\"] == 94105, \"Embarcadero\",\n",
    "                             np.where(datadf[\"zip_code\"] == 94111, \"Embarcadero\",         \n",
    "                             np.where(datadf[\"zip_code\"] == 94015, \"Daly City\",\n",
    "                             np.where(datadf[\"zip_code\"] == 94014, \"Daly City\",  \n",
    "                             np.where(datadf[\"zip_code\"] == 94005, \"Daly City\",         \n",
    "                             np.where(datadf[\"zip_code\"] == 94080, \"Paradise Valley/South SF\",\n",
    "                             np.where(datadf[\"zip_code\"] == 94158, \"Mission Bay\",\n",
    "                             np.where(datadf[\"zip_code\"] == 94804, \"Richmond (City)\",\n",
    "                             np.where(datadf[\"zip_code\"] == 94530, \"Richmond (City)\", \n",
    "                             np.where(datadf[\"zip_code\"] == 94010, \"Burlingame\",\n",
    "                             np.where(datadf[\"zip_code\"] == 94966, \"Tiburon\",\n",
    "                             np.where(datadf[\"zip_code\"] == 94920, \"Tiburon\",\n",
    "                             np.where(datadf[\"zip_code\"] == 95814, \"Sacramento\", \n",
    "                             np.where(datadf[\"zip_code\"] == 94044, \"Pacifica\", \n",
    "                             np.where(datadf[\"zip_code\"] == 94010, \"Alameda\",\n",
    "                             np.where(datadf[\"zip_code\"] == 94710, \"Alameda\",\n",
    "                             np.where(datadf[\"zip_code\"] == 94706, \"Alameda\",\n",
    "                             np.where(datadf[\"zip_code\"] == 94706, \"Alameda\", \n",
    "                             np.where(datadf[\"zip_code\"] == 94501, \"Alameda\",\n",
    "                             np.where(datadf[\"zip_code\"] == 94607, \"Oakland\",\n",
    "                             np.where(datadf[\"zip_code\"] == 94612, \"Oakland\", \n",
    "                             np.where(datadf[\"zip_code\"] == 94609, \"Oakland\", \n",
    "                             np.where(datadf[\"zip_code\"] == 94702, \"Berkeley\", \n",
    "                             np.where(datadf[\"zip_code\"] == 94707, \"Berkeley\",\n",
    "                             np.where(datadf[\"zip_code\"] == 94608, \"Emeryville\",\n",
    "                             np.where(datadf[\"zip_code\"] == 94134, \"Portola/Visitacion Valley\",         \n",
    "                                  \"UNKNOWN\")))))))))))))))))))))))))))))))))))))))))))))))))))\n",
    "    return datadf"
   ]
  },
  {
   "cell_type": "code",
   "execution_count": null,
   "metadata": {},
   "outputs": [],
   "source": [
    "# Check data types\n",
    "\n",
    "dog_df.dtypes"
   ]
  },
  {
   "cell_type": "code",
   "execution_count": null,
   "metadata": {},
   "outputs": [],
   "source": [
    "# Check data types\n",
    "\n",
    "wc_df.dtypes"
   ]
  },
  {
   "cell_type": "code",
   "execution_count": null,
   "metadata": {},
   "outputs": [],
   "source": [
    "# Check data types\n",
    "\n",
    "wc_dog_df.dtypes"
   ]
  },
  {
   "cell_type": "code",
   "execution_count": null,
   "metadata": {},
   "outputs": [],
   "source": [
    "# Apply function created above to get neighborhood data from zip codes\n",
    "\n",
    "dog_neighborhoods = getNeighborhoodsfromZip(dog_df)\n",
    "wheelchair_neighborhoods = getNeighborhoodsfromZip(wc_df)\n",
    "wc_dog_neighborhoods = getNeighborhoodsfromZip(wc_dog_df)\n"
   ]
  },
  {
   "cell_type": "code",
   "execution_count": null,
   "metadata": {},
   "outputs": [],
   "source": [
    "# Check if any entry is unknown\n",
    "\n",
    "unknown_dog = dog_neighborhoods[dog_neighborhoods[\"neighborhood\"] == \"UNKNOWN\"]\n",
    "unknown_wc = wheelchair_neighborhoods[wheelchair_neighborhoods[\"neighborhood\"] == \"UNKNOWN\"]\n",
    "unknown_wc_dog = wc_dog_neighborhoods[wc_dog_neighborhoods[\"neighborhood\"] == \"UNKNOWN\"]"
   ]
  },
  {
   "cell_type": "code",
   "execution_count": null,
   "metadata": {},
   "outputs": [],
   "source": [
    "# Display data frame\n",
    "\n",
    "unknown_dog"
   ]
  },
  {
   "cell_type": "code",
   "execution_count": null,
   "metadata": {},
   "outputs": [],
   "source": [
    "# Display data frame\n",
    "\n",
    "unknown_wc"
   ]
  },
  {
   "cell_type": "code",
   "execution_count": null,
   "metadata": {},
   "outputs": [],
   "source": [
    "# Display data frame\n",
    "\n",
    "unknown_wc_dog"
   ]
  },
  {
   "cell_type": "code",
   "execution_count": null,
   "metadata": {},
   "outputs": [],
   "source": [
    "# Save dataframes to CSV files\n",
    "\n",
    "dog_neighborhoods.to_csv(\"dog_rest_neighborhoods.csv\", index=False)\n",
    "wheelchair_neighborhoods.to_csv(\"wheelchair_rest_neighborhoods.csv\", index=False)\n",
    "wc_dog_neighborhoods.to_csv(\"both_wheelchair_dog_rest_neighborhoods.csv\", index=False)"
   ]
  }
 ],
 "metadata": {
  "kernelspec": {
   "display_name": "Python [conda env:PythonData]",
   "language": "python",
   "name": "conda-env-PythonData-py"
  },
  "language_info": {
   "codemirror_mode": {
    "name": "ipython",
    "version": 3
   },
   "file_extension": ".py",
   "mimetype": "text/x-python",
   "name": "python",
   "nbconvert_exporter": "python",
   "pygments_lexer": "ipython3",
   "version": "3.6.9"
  }
 },
 "nbformat": 4,
 "nbformat_minor": 2
}
