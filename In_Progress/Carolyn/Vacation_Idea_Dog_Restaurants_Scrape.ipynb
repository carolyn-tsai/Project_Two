{
 "cells": [
  {
   "cell_type": "code",
   "execution_count": null,
   "metadata": {},
   "outputs": [],
   "source": [
    "# Import dependencies\n",
    "\n",
    "import pandas as pd\n",
    "from bs4 import BeautifulSoup\n",
    "import requests\n",
    "from urllib.request import urlopen\n",
    "from splinter import Browser\n",
    "import time"
   ]
  },
  {
   "cell_type": "code",
   "execution_count": null,
   "metadata": {},
   "outputs": [],
   "source": [
    "# Set the URL that will be scraped to a variable\n",
    "# https://vacationidea.com with filters for San Francisco dog friendly restaurants\n",
    "\n",
    "url = \"https://vacationidea.com/california/dog-friendly-restaurants-san-francisco.html\"\n",
    "\n",
    "# Create function to get html from website using Beautiful Soup\n",
    "\n",
    "def getHTMLContent(link):\n",
    "    html = urlopen(link)\n",
    "    soup = BeautifulSoup(html, \"html.parser\")\n",
    "    return soup\n",
    "\n",
    "# Use the function created above and pass through the URL defined earlier\n",
    "\n",
    "content = getHTMLContent(url)"
   ]
  },
  {
   "cell_type": "code",
   "execution_count": null,
   "metadata": {},
   "outputs": [],
   "source": [
    "# From the content collected, find all tags \"div\" with class \"slideshow\"\n",
    "# Each of the restaurant data is found within the html tag and class\n",
    "\n",
    "rest_data = content.find_all(\"div\", class_=\"slideshow\")\n",
    "\n",
    "# Check the amount of restaurants to see if data makes sense\n",
    "\n",
    "len(rest_data)"
   ]
  },
  {
   "cell_type": "code",
   "execution_count": null,
   "metadata": {},
   "outputs": [],
   "source": [
    "# Create an empty dicitonary to store scraped dog restaurant data \n",
    "\n",
    "rest_dictionary ={}\n",
    "rest_dictionary[\"name\"] = []\n",
    "rest_dictionary[\"address\"] = []\n",
    "\n",
    "# Create a loop to collect the restaurant data\n",
    "\n",
    "for restaurant in rest_data:\n",
    "    name = restaurant.find(\"h2\", class_=\"slide-title\").text\n",
    "    address = restaurant.find(\"i\").text\n",
    "    rest_dictionary[\"name\"].append(name[4:])\n",
    "    rest_dictionary[\"address\"].append(address)\n",
    "\n",
    "# Check to see if correct amount of restaurant data was collected\n",
    "\n",
    "len(rest_dictionary[\"name\"])"
   ]
  },
  {
   "cell_type": "code",
   "execution_count": null,
   "metadata": {},
   "outputs": [],
   "source": [
    "# Convert the dictionary to a Pandas Data Frame\n",
    "\n",
    "rest_df = pd.DataFrame.from_dict(rest_dictionary)\n",
    "\n",
    "# Display the data\n",
    "\n",
    "rest_df.head()"
   ]
  }
 ],
 "metadata": {
  "kernelspec": {
   "display_name": "Python [conda env:PythonData]",
   "language": "python",
   "name": "conda-env-PythonData-py"
  },
  "language_info": {
   "codemirror_mode": {
    "name": "ipython",
    "version": 3
   },
   "file_extension": ".py",
   "mimetype": "text/x-python",
   "name": "python",
   "nbconvert_exporter": "python",
   "pygments_lexer": "ipython3",
   "version": "3.6.9"
  }
 },
 "nbformat": 4,
 "nbformat_minor": 2
}
