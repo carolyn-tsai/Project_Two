{
 "cells": [
  {
   "cell_type": "code",
   "execution_count": 2,
   "metadata": {},
   "outputs": [],
   "source": [
    "# Import dependencies\n",
    "\n",
    "import csv\n",
    "import requests\n",
    "import pandas as pd"
   ]
  },
  {
   "cell_type": "code",
   "execution_count": null,
   "metadata": {},
   "outputs": [],
   "source": [
    "# Define api key, headers, and URL\n",
    "\n",
    "API_KEY = \"API KEY HERE!\"\n",
    "HEADERS = {\"Authorization\":  \"Bearer %s\" % API_KEY}\n",
    "URL = \"https://api.yelp.com/v3/businesses/search\"\n",
    "\n",
    "# Create empty list for yelp data to be appended\n",
    "            \n",
    "wheelchair_yelp_data = []\n",
    "offset = 0\n",
    "\n",
    "# API call limit is 1,000 for business attribute search\n",
    "# Create loop to get data based off of given parameters\n",
    "\n",
    "for x in range(20):\n",
    "    offset = x *50\n",
    "    params = {\n",
    "        \"term\":\"restaurants\",\n",
    "        \"limit\": 50,\n",
    "        \"offset\": offset,\n",
    "        \"location\":\"San Francisco\",\n",
    "        \"attributes\": \"wheelchair_accessible\"\n",
    "    }\n",
    "    \n",
    "    # Make Yelp API request and store response in variable \n",
    "\n",
    "    yelp_response = requests.get(URL, params= params, headers = HEADERS)\n",
    "\n",
    "    # Store the json response in a varaible\n",
    "    \n",
    "    wheelchair = yelp_response.json()\n",
    "\n",
    "    # Loop through each business entry to get data in correct column\n",
    "    \n",
    "    for business in wheelchair[\"businesses\"]:\n",
    "        wc_columns = {\n",
    "            \"alias\":business[\"categories\"][0][\"alias\"],\n",
    "            \"name\":business[\"name\"],\n",
    "            \"latitude\":str(business[\"coordinates\"][\"latitude\"]),\n",
    "            \"longitude\":str(business[\"coordinates\"][\"longitude\"]),\n",
    "            \"is_closed\":business[\"is_closed\"], \n",
    "            \"rating\":business[\"rating\"], \n",
    "            \"url\":business[\"url\"],\n",
    "            \"review_count\":business[\"review_count\"],\n",
    "            \"transactions\":business[\"transactions\"],\n",
    "            \"address\":business[\"location\"][\"display_address\"],\n",
    "            \"zip_code\":business[\"location\"][\"zip_code\"]\n",
    "        }\n",
    "        \n",
    "        # Append the data to the empty list\n",
    "        \n",
    "        wheelchair_yelp_data.append(wc_columns)\n",
    "\n",
    "# Convert the array to a pandas dataframe\n",
    "\n",
    "wc_data_df = pd.DataFrame(wheelchair_yelp_data)\n",
    "\n",
    "# Rename \"alias\" column to \"category\"\n",
    "\n",
    "wc_data_df.rename(columns={\"alias\": \"category\"}, inplace=True)"
   ]
  },
  {
   "cell_type": "code",
   "execution_count": null,
   "metadata": {},
   "outputs": [],
   "source": [
    "# Display the head of dataframe to check that data makes sense\n",
    "\n",
    "wc_data_df.head()"
   ]
  },
  {
   "cell_type": "code",
   "execution_count": null,
   "metadata": {},
   "outputs": [],
   "source": [
    "# Check to see if max rows was called (should be 1000)\n",
    "\n",
    "len(wc_data_df)"
   ]
  },
  {
   "cell_type": "code",
   "execution_count": 27,
   "metadata": {},
   "outputs": [],
   "source": [
    "# Save the dataframe to a csv file\n",
    "\n",
    "wc_data_df.to_csv(\"wheelchair_data_w_address.csv.csv\", index=False)"
   ]
  }
 ],
 "metadata": {
  "kernelspec": {
   "display_name": "Python [conda env:PythonData]",
   "language": "python",
   "name": "conda-env-PythonData-py"
  },
  "language_info": {
   "codemirror_mode": {
    "name": "ipython",
    "version": 3
   },
   "file_extension": ".py",
   "mimetype": "text/x-python",
   "name": "python",
   "nbconvert_exporter": "python",
   "pygments_lexer": "ipython3",
   "version": "3.6.9"
  }
 },
 "nbformat": 4,
 "nbformat_minor": 2
}
