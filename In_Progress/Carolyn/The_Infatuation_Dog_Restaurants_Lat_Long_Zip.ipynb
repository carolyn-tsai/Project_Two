{
 "cells": [
  {
   "cell_type": "code",
   "execution_count": null,
   "metadata": {},
   "outputs": [],
   "source": [
    "# Import dependencies\n",
    "\n",
    "import os\n",
    "import csv\n",
    "import pandas as pd\n",
    "from googlemaps import Client as GoogleMaps\n",
    "\n",
    "# Get name of file to be read\n",
    "\n",
    "file = \"infat_dog_rest_initial.csv\"\n",
    "\n",
    "# Reaad the CSV file\n",
    "\n",
    "infat_dog_df = pd.read_csv(file, encoding=\"UTF-8\", low_memory = False)    \n",
    "\n",
    "# Display the data\n",
    "\n",
    "infat_dog_df.head()"
   ]
  },
  {
   "cell_type": "code",
   "execution_count": null,
   "metadata": {},
   "outputs": [],
   "source": [
    "# Define API key\n",
    "\n",
    "google_API = \"API KEY HERE!\"\n",
    "\n",
    "# Use GoogleMaps function to get gmaps\n",
    "\n",
    "gmaps = GoogleMaps(google_API)\n",
    "\n",
    "# Add empty columns to the final_data data frame for the latitude and longitude\n",
    "\n",
    "infat_dog_df[\"latitude\"] = \"\"\n",
    "infat_dog_df[\"longitude\"] = \"\""
   ]
  },
  {
   "cell_type": "code",
   "execution_count": null,
   "metadata": {},
   "outputs": [],
   "source": [
    "# Create a for loop to get the latitude and longitude given the address\n",
    "\n",
    "for i in range(len(infat_dog_df[\"address\"])):\n",
    "    geocode_results = gmaps.geocode(infat_dog_df[\"address\"][i])\n",
    "    infat_dog_df[\"latitude\"][i] = geocode_results[0][\"geometry\"][\"location\"][\"lat\"]\n",
    "    infat_dog_df['longitude'][i] = geocode_results[0]['geometry']['location']['lng']"
   ]
  },
  {
   "cell_type": "code",
   "execution_count": null,
   "metadata": {},
   "outputs": [],
   "source": [
    "# Check to see if data was collected correctly\n",
    "\n",
    "infat_dog_df.head()"
   ]
  },
  {
   "cell_type": "code",
   "execution_count": null,
   "metadata": {},
   "outputs": [],
   "source": [
    "# Get the zip code for each restaurant by gettin the last 5 digits in the address\n",
    "\n",
    "infat_dog_df[\"zip_code\"] = infat_dog_df[\"address\"].str[-5:]\n",
    "\n",
    "# Check if numbers are correct\n",
    "\n",
    "infat_dog_df.head()"
   ]
  },
  {
   "cell_type": "code",
   "execution_count": null,
   "metadata": {},
   "outputs": [],
   "source": [
    "# Save the data frame as a CSV file\n",
    "\n",
    "infat_dog_df.to_csv(\"infat_dog_lat_long_zip.csv\", index=False)"
   ]
  }
 ],
 "metadata": {
  "kernelspec": {
   "display_name": "Python [conda env:PythonData]",
   "language": "python",
   "name": "conda-env-PythonData-py"
  },
  "language_info": {
   "codemirror_mode": {
    "name": "ipython",
    "version": 3
   },
   "file_extension": ".py",
   "mimetype": "text/x-python",
   "name": "python",
   "nbconvert_exporter": "python",
   "pygments_lexer": "ipython3",
   "version": "3.6.9"
  }
 },
 "nbformat": 4,
 "nbformat_minor": 2
}
